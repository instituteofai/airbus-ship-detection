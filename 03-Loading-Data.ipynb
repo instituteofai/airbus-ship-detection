{
 "cells": [
  {
   "cell_type": "code",
   "execution_count": 1,
   "metadata": {},
   "outputs": [],
   "source": [
    "import pandas as pd\n",
    "import sys\n",
    "import numpy as np\n",
    "import cv2\n",
    "\n",
    "sys.path.append('..')\n",
    "\n",
    "from airbus_ship_detection import utility"
   ]
  },
  {
   "cell_type": "code",
   "execution_count": 2,
   "metadata": {},
   "outputs": [
    {
     "data": {
      "text/html": [
       "<div>\n",
       "<style scoped>\n",
       "    .dataframe tbody tr th:only-of-type {\n",
       "        vertical-align: middle;\n",
       "    }\n",
       "\n",
       "    .dataframe tbody tr th {\n",
       "        vertical-align: top;\n",
       "    }\n",
       "\n",
       "    .dataframe thead th {\n",
       "        text-align: right;\n",
       "    }\n",
       "</style>\n",
       "<table border=\"1\" class=\"dataframe\">\n",
       "  <thead>\n",
       "    <tr style=\"text-align: right;\">\n",
       "      <th></th>\n",
       "      <th>ImageId</th>\n",
       "      <th>EncodedPixels</th>\n",
       "    </tr>\n",
       "  </thead>\n",
       "  <tbody>\n",
       "    <tr>\n",
       "      <th>0</th>\n",
       "      <td>00003e153.jpg</td>\n",
       "      <td>NaN</td>\n",
       "    </tr>\n",
       "    <tr>\n",
       "      <th>1</th>\n",
       "      <td>0001124c7.jpg</td>\n",
       "      <td>NaN</td>\n",
       "    </tr>\n",
       "    <tr>\n",
       "      <th>2</th>\n",
       "      <td>000155de5.jpg</td>\n",
       "      <td>264661 17 265429 33 266197 33 266965 33 267733...</td>\n",
       "    </tr>\n",
       "    <tr>\n",
       "      <th>3</th>\n",
       "      <td>000194a2d.jpg</td>\n",
       "      <td>360486 1 361252 4 362019 5 362785 8 363552 10 ...</td>\n",
       "    </tr>\n",
       "    <tr>\n",
       "      <th>4</th>\n",
       "      <td>000194a2d.jpg</td>\n",
       "      <td>51834 9 52602 9 53370 9 54138 9 54906 9 55674 ...</td>\n",
       "    </tr>\n",
       "  </tbody>\n",
       "</table>\n",
       "</div>"
      ],
      "text/plain": [
       "         ImageId                                      EncodedPixels\n",
       "0  00003e153.jpg                                                NaN\n",
       "1  0001124c7.jpg                                                NaN\n",
       "2  000155de5.jpg  264661 17 265429 33 266197 33 266965 33 267733...\n",
       "3  000194a2d.jpg  360486 1 361252 4 362019 5 362785 8 363552 10 ...\n",
       "4  000194a2d.jpg  51834 9 52602 9 53370 9 54138 9 54906 9 55674 ..."
      ]
     },
     "execution_count": 2,
     "metadata": {},
     "output_type": "execute_result"
    }
   ],
   "source": [
    "df = pd.read_csv('../input/train_ship_segmentations_v2.csv')\n",
    "df.head()"
   ]
  },
  {
   "cell_type": "code",
   "execution_count": 3,
   "metadata": {},
   "outputs": [
    {
     "data": {
      "text/html": [
       "<div>\n",
       "<style scoped>\n",
       "    .dataframe tbody tr th:only-of-type {\n",
       "        vertical-align: middle;\n",
       "    }\n",
       "\n",
       "    .dataframe tbody tr th {\n",
       "        vertical-align: top;\n",
       "    }\n",
       "\n",
       "    .dataframe thead th {\n",
       "        text-align: right;\n",
       "    }\n",
       "</style>\n",
       "<table border=\"1\" class=\"dataframe\">\n",
       "  <thead>\n",
       "    <tr style=\"text-align: right;\">\n",
       "      <th></th>\n",
       "      <th>ImageId</th>\n",
       "      <th>count</th>\n",
       "    </tr>\n",
       "  </thead>\n",
       "  <tbody>\n",
       "    <tr>\n",
       "      <th>0</th>\n",
       "      <td>00003e153.jpg</td>\n",
       "      <td>0</td>\n",
       "    </tr>\n",
       "    <tr>\n",
       "      <th>1</th>\n",
       "      <td>0001124c7.jpg</td>\n",
       "      <td>0</td>\n",
       "    </tr>\n",
       "    <tr>\n",
       "      <th>2</th>\n",
       "      <td>000155de5.jpg</td>\n",
       "      <td>1</td>\n",
       "    </tr>\n",
       "    <tr>\n",
       "      <th>3</th>\n",
       "      <td>000194a2d.jpg</td>\n",
       "      <td>5</td>\n",
       "    </tr>\n",
       "    <tr>\n",
       "      <th>4</th>\n",
       "      <td>0001b1832.jpg</td>\n",
       "      <td>1</td>\n",
       "    </tr>\n",
       "  </tbody>\n",
       "</table>\n",
       "</div>"
      ],
      "text/plain": [
       "         ImageId  count\n",
       "0  00003e153.jpg      0\n",
       "1  0001124c7.jpg      0\n",
       "2  000155de5.jpg      1\n",
       "3  000194a2d.jpg      5\n",
       "4  0001b1832.jpg      1"
      ]
     },
     "execution_count": 3,
     "metadata": {},
     "output_type": "execute_result"
    }
   ],
   "source": [
    "# Create column that has count of ships in image\n",
    "image_ship_counts = df.groupby('ImageId').size().reset_index(name='count')\n",
    "\n",
    "# Set count of images with no ship to 0\n",
    "images_with_no_ships = df.loc[df.EncodedPixels.isna()].ImageId.values\n",
    "image_ship_counts.loc[df['ImageId'].isin(images_with_no_ships), 'count'] = 0\n",
    "\n",
    "image_ship_counts.head()"
   ]
  },
  {
   "cell_type": "code",
   "execution_count": 4,
   "metadata": {},
   "outputs": [
    {
     "data": {
      "text/html": [
       "<div>\n",
       "<style scoped>\n",
       "    .dataframe tbody tr th:only-of-type {\n",
       "        vertical-align: middle;\n",
       "    }\n",
       "\n",
       "    .dataframe tbody tr th {\n",
       "        vertical-align: top;\n",
       "    }\n",
       "\n",
       "    .dataframe thead th {\n",
       "        text-align: right;\n",
       "    }\n",
       "</style>\n",
       "<table border=\"1\" class=\"dataframe\">\n",
       "  <thead>\n",
       "    <tr style=\"text-align: right;\">\n",
       "      <th></th>\n",
       "      <th>ImageId</th>\n",
       "      <th>count</th>\n",
       "      <th>EncodedPixels</th>\n",
       "    </tr>\n",
       "  </thead>\n",
       "  <tbody>\n",
       "    <tr>\n",
       "      <th>0</th>\n",
       "      <td>00003e153.jpg</td>\n",
       "      <td>0</td>\n",
       "      <td>NaN</td>\n",
       "    </tr>\n",
       "    <tr>\n",
       "      <th>1</th>\n",
       "      <td>0001124c7.jpg</td>\n",
       "      <td>0</td>\n",
       "      <td>NaN</td>\n",
       "    </tr>\n",
       "    <tr>\n",
       "      <th>2</th>\n",
       "      <td>000155de5.jpg</td>\n",
       "      <td>1</td>\n",
       "      <td>264661 17 265429 33 266197 33 266965 33 267733...</td>\n",
       "    </tr>\n",
       "    <tr>\n",
       "      <th>3</th>\n",
       "      <td>000194a2d.jpg</td>\n",
       "      <td>5</td>\n",
       "      <td>360486 1 361252 4 362019 5 362785 8 363552 10 ...</td>\n",
       "    </tr>\n",
       "    <tr>\n",
       "      <th>4</th>\n",
       "      <td>000194a2d.jpg</td>\n",
       "      <td>5</td>\n",
       "      <td>51834 9 52602 9 53370 9 54138 9 54906 9 55674 ...</td>\n",
       "    </tr>\n",
       "    <tr>\n",
       "      <th>...</th>\n",
       "      <td>...</td>\n",
       "      <td>...</td>\n",
       "      <td>...</td>\n",
       "    </tr>\n",
       "    <tr>\n",
       "      <th>231718</th>\n",
       "      <td>fffedbb6b.jpg</td>\n",
       "      <td>0</td>\n",
       "      <td>NaN</td>\n",
       "    </tr>\n",
       "    <tr>\n",
       "      <th>231719</th>\n",
       "      <td>ffff2aa57.jpg</td>\n",
       "      <td>0</td>\n",
       "      <td>NaN</td>\n",
       "    </tr>\n",
       "    <tr>\n",
       "      <th>231720</th>\n",
       "      <td>ffff6e525.jpg</td>\n",
       "      <td>1</td>\n",
       "      <td>NaN</td>\n",
       "    </tr>\n",
       "    <tr>\n",
       "      <th>231721</th>\n",
       "      <td>ffffc50b4.jpg</td>\n",
       "      <td>0</td>\n",
       "      <td>NaN</td>\n",
       "    </tr>\n",
       "    <tr>\n",
       "      <th>231722</th>\n",
       "      <td>ffffe97f3.jpg</td>\n",
       "      <td>0</td>\n",
       "      <td>NaN</td>\n",
       "    </tr>\n",
       "  </tbody>\n",
       "</table>\n",
       "<p>231723 rows × 3 columns</p>\n",
       "</div>"
      ],
      "text/plain": [
       "              ImageId  count  \\\n",
       "0       00003e153.jpg      0   \n",
       "1       0001124c7.jpg      0   \n",
       "2       000155de5.jpg      1   \n",
       "3       000194a2d.jpg      5   \n",
       "4       000194a2d.jpg      5   \n",
       "...               ...    ...   \n",
       "231718  fffedbb6b.jpg      0   \n",
       "231719  ffff2aa57.jpg      0   \n",
       "231720  ffff6e525.jpg      1   \n",
       "231721  ffffc50b4.jpg      0   \n",
       "231722  ffffe97f3.jpg      0   \n",
       "\n",
       "                                            EncodedPixels  \n",
       "0                                                     NaN  \n",
       "1                                                     NaN  \n",
       "2       264661 17 265429 33 266197 33 266965 33 267733...  \n",
       "3       360486 1 361252 4 362019 5 362785 8 363552 10 ...  \n",
       "4       51834 9 52602 9 53370 9 54138 9 54906 9 55674 ...  \n",
       "...                                                   ...  \n",
       "231718                                                NaN  \n",
       "231719                                                NaN  \n",
       "231720                                                NaN  \n",
       "231721                                                NaN  \n",
       "231722                                                NaN  \n",
       "\n",
       "[231723 rows x 3 columns]"
      ]
     },
     "execution_count": 4,
     "metadata": {},
     "output_type": "execute_result"
    }
   ],
   "source": [
    "pd.merge(image_ship_counts, df)"
   ]
  },
  {
   "cell_type": "code",
   "execution_count": 5,
   "metadata": {},
   "outputs": [],
   "source": [
    "from IPython.core.debugger import set_trace"
   ]
  },
  {
   "cell_type": "code",
   "execution_count": 8,
   "metadata": {},
   "outputs": [],
   "source": [
    "from torch.utils.data import Dataset\n",
    "from skimage.io import imread\n",
    "from torchvision.transforms import ToTensor, Compose, Normalize\n",
    "\n",
    "class ShipDataset(Dataset):\n",
    "    \n",
    "    def __init__(self, df):\n",
    "        self.image_ids = df.ImageId.unique()\n",
    "        grp = list(df.groupby('ImageId'))\n",
    "        set_trace()\n",
    "        self.image_masks = [m['EncodedPixels'].values for _,m in grp]\n",
    "        self.img_transform = Compose([\n",
    "            ToTensor(),\n",
    "            Normalize(mean=[0.485, 0.456, 0.406], std=[0.229, 0.224, 0.225])\n",
    "        ])\n",
    "    \n",
    "    def __len__(self):\n",
    "        return len(self.image_ids)\n",
    "    \n",
    "    def __getitem__(self, idx):\n",
    "        file_name = self.image_ids[idx]\n",
    "        image = imread(f'../input/train_v2/{file_name}')\n",
    "        return self.img_transform(image)"
   ]
  },
  {
   "cell_type": "code",
   "execution_count": null,
   "metadata": {},
   "outputs": [
    {
     "name": "stdout",
     "output_type": "stream",
     "text": [
      "> \u001b[0;32m<ipython-input-8-0f121872aeb4>\u001b[0m(11)\u001b[0;36m__init__\u001b[0;34m()\u001b[0m\n",
      "\u001b[0;32m      9 \u001b[0;31m        \u001b[0mgrp\u001b[0m \u001b[0;34m=\u001b[0m \u001b[0mlist\u001b[0m\u001b[0;34m(\u001b[0m\u001b[0mdf\u001b[0m\u001b[0;34m.\u001b[0m\u001b[0mgroupby\u001b[0m\u001b[0;34m(\u001b[0m\u001b[0;34m'ImageId'\u001b[0m\u001b[0;34m)\u001b[0m\u001b[0;34m)\u001b[0m\u001b[0;34m\u001b[0m\u001b[0;34m\u001b[0m\u001b[0m\n",
      "\u001b[0m\u001b[0;32m     10 \u001b[0;31m        \u001b[0mset_trace\u001b[0m\u001b[0;34m(\u001b[0m\u001b[0;34m)\u001b[0m\u001b[0;34m\u001b[0m\u001b[0;34m\u001b[0m\u001b[0m\n",
      "\u001b[0m\u001b[0;32m---> 11 \u001b[0;31m        \u001b[0mself\u001b[0m\u001b[0;34m.\u001b[0m\u001b[0mimage_masks\u001b[0m \u001b[0;34m=\u001b[0m \u001b[0;34m[\u001b[0m\u001b[0mm\u001b[0m\u001b[0;34m[\u001b[0m\u001b[0;34m'EncodedPixels'\u001b[0m\u001b[0;34m]\u001b[0m\u001b[0;34m.\u001b[0m\u001b[0mvalues\u001b[0m \u001b[0;32mfor\u001b[0m \u001b[0m_\u001b[0m\u001b[0;34m,\u001b[0m\u001b[0mm\u001b[0m \u001b[0;32min\u001b[0m \u001b[0mgrp\u001b[0m\u001b[0;34m]\u001b[0m\u001b[0;34m\u001b[0m\u001b[0;34m\u001b[0m\u001b[0m\n",
      "\u001b[0m\u001b[0;32m     12 \u001b[0;31m        self.img_transform = Compose([\n",
      "\u001b[0m\u001b[0;32m     13 \u001b[0;31m            \u001b[0mToTensor\u001b[0m\u001b[0;34m(\u001b[0m\u001b[0;34m)\u001b[0m\u001b[0;34m,\u001b[0m\u001b[0;34m\u001b[0m\u001b[0;34m\u001b[0m\u001b[0m\n",
      "\u001b[0m\n"
     ]
    },
    {
     "name": "stdin",
     "output_type": "stream",
     "text": [
      "ipdb>  grp[5][1]\n"
     ]
    },
    {
     "name": "stdout",
     "output_type": "stream",
     "text": [
      "         ImageId  count\n",
      "5  00021ddc3.jpg      9\n"
     ]
    },
    {
     "name": "stdin",
     "output_type": "stream",
     "text": [
      "ipdb>  grp[5][1].ImageId\n"
     ]
    },
    {
     "name": "stdout",
     "output_type": "stream",
     "text": [
      "5    00021ddc3.jpg\n",
      "Name: ImageId, dtype: object\n"
     ]
    }
   ],
   "source": [
    "ds = ShipDataset(image_ship_counts[:10])"
   ]
  },
  {
   "cell_type": "code",
   "execution_count": null,
   "metadata": {},
   "outputs": [],
   "source": [
    "ds[15].shape"
   ]
  },
  {
   "cell_type": "code",
   "execution_count": null,
   "metadata": {},
   "outputs": [],
   "source": [
    "from skimage.io import imshow\n",
    "imshow(ds[15])"
   ]
  },
  {
   "cell_type": "code",
   "execution_count": null,
   "metadata": {},
   "outputs": [],
   "source": [
    "filename = image_ship_counts.loc[15].ImageId\n",
    "total_mask = np.zeros((768, 768))\n",
    "for mask in df.loc[df.ImageId == filename, 'EncodedPixels'].values:\n",
    "    mask_img = utility.rle_decode(mask, shape=(768,768))\n",
    "    total_mask += mask_img\n",
    "    imshow(total_mask)"
   ]
  },
  {
   "cell_type": "code",
   "execution_count": null,
   "metadata": {},
   "outputs": [],
   "source": [
    "m = np.dstack((total_mask, total_mask, total_mask)) * np.array((0, 1, 0))\n",
    "imshow(cv2.addWeighted(ds[15], 0.9, m.astype('uint8')*128, 0.9, 0))"
   ]
  },
  {
   "cell_type": "code",
   "execution_count": null,
   "metadata": {},
   "outputs": [],
   "source": [
    "grp = list(df.groupby('ImageId'))"
   ]
  },
  {
   "cell_type": "code",
   "execution_count": null,
   "metadata": {},
   "outputs": [],
   "source": [
    "grp[15][1].EncodedPixels.values"
   ]
  },
  {
   "cell_type": "code",
   "execution_count": null,
   "metadata": {},
   "outputs": [],
   "source": [
    "def masks_as_image(mask_list):\n",
    "    all_masks = np.zeros((768, 768), dtype=np.int16)\n",
    "    for mask in mask_list:\n",
    "        if isinstance(mask, str):\n",
    "            all_masks += utility.rle_decode(mask, (768, 768))\n",
    "    return np.expand_dims(all_masks, -1)\n",
    "\n",
    "mask = masks_as_image(grp[15][1].EncodedPixels.values)\n",
    "print(mask.shape)"
   ]
  },
  {
   "cell_type": "code",
   "execution_count": null,
   "metadata": {},
   "outputs": [],
   "source": [
    "import torch\n",
    "torch.from_numpy(np.moveaxis(mask, -1, 0)).float().shape"
   ]
  },
  {
   "cell_type": "code",
   "execution_count": null,
   "metadata": {},
   "outputs": [],
   "source": [
    "# Implementation from https://github.com/timctho/unet-pytorch/\n",
    "class UNet_down_block(torch.nn.Module):\n",
    "    def __init__(self, input_channel, output_channel, down_size):\n",
    "        super(UNet_down_block, self).__init__()\n",
    "        self.conv1 = torch.nn.Conv2d(input_channel, output_channel, 3, padding=1)\n",
    "        self.bn1 = torch.nn.BatchNorm2d(output_channel)\n",
    "        self.conv2 = torch.nn.Conv2d(output_channel, output_channel, 3, padding=1)\n",
    "        self.bn2 = torch.nn.BatchNorm2d(output_channel)\n",
    "        self.conv3 = torch.nn.Conv2d(output_channel, output_channel, 3, padding=1)\n",
    "        self.bn3 = torch.nn.BatchNorm2d(output_channel)\n",
    "        self.max_pool = torch.nn.MaxPool2d(2, 2)\n",
    "        self.relu = torch.nn.ReLU()\n",
    "        self.down_size = down_size\n",
    "\n",
    "    def forward(self, x):\n",
    "        if self.down_size:\n",
    "            x = self.max_pool(x)\n",
    "        x = self.relu(self.bn1(self.conv1(x)))\n",
    "        x = self.relu(self.bn2(self.conv2(x)))\n",
    "        x = self.relu(self.bn3(self.conv3(x)))\n",
    "        return x\n",
    "\n",
    "class UNet_up_block(torch.nn.Module):\n",
    "    def __init__(self, prev_channel, input_channel, output_channel):\n",
    "        super(UNet_up_block, self).__init__()\n",
    "        self.up_sampling = torch.nn.Upsample(scale_factor=2, mode='bilinear')\n",
    "        self.conv1 = torch.nn.Conv2d(prev_channel + input_channel, output_channel, 3, padding=1)\n",
    "        self.bn1 = torch.nn.BatchNorm2d(output_channel)\n",
    "        self.conv2 = torch.nn.Conv2d(output_channel, output_channel, 3, padding=1)\n",
    "        self.bn2 = torch.nn.BatchNorm2d(output_channel)\n",
    "        self.conv3 = torch.nn.Conv2d(output_channel, output_channel, 3, padding=1)\n",
    "        self.bn3 = torch.nn.BatchNorm2d(output_channel)\n",
    "        self.relu = torch.nn.ReLU()\n",
    "\n",
    "    def forward(self, prev_feature_map, x):\n",
    "        x = self.up_sampling(x)\n",
    "        x = torch.cat((x, prev_feature_map), dim=1)\n",
    "        x = self.relu(self.bn1(self.conv1(x)))\n",
    "        x = self.relu(self.bn2(self.conv2(x)))\n",
    "        x = self.relu(self.bn3(self.conv3(x)))\n",
    "        return x\n",
    "\n",
    "\n",
    "class UNet(torch.nn.Module):\n",
    "    def __init__(self):\n",
    "        super(UNet, self).__init__()\n",
    "\n",
    "        self.down_block1 = UNet_down_block(3, 16, False)\n",
    "        self.down_block2 = UNet_down_block(16, 32, True)\n",
    "        self.down_block3 = UNet_down_block(32, 64, True)\n",
    "        self.down_block4 = UNet_down_block(64, 128, True)\n",
    "        self.down_block5 = UNet_down_block(128, 256, True)\n",
    "        self.down_block6 = UNet_down_block(256, 512, True)\n",
    "        self.down_block7 = UNet_down_block(512, 1024, True)\n",
    "\n",
    "        self.mid_conv1 = torch.nn.Conv2d(1024, 1024, 3, padding=1)\n",
    "        self.bn1 = torch.nn.BatchNorm2d(1024)\n",
    "        self.mid_conv2 = torch.nn.Conv2d(1024, 1024, 3, padding=1)\n",
    "        self.bn2 = torch.nn.BatchNorm2d(1024)\n",
    "        self.mid_conv3 = torch.nn.Conv2d(1024, 1024, 3, padding=1)\n",
    "        self.bn3 = torch.nn.BatchNorm2d(1024)\n",
    "\n",
    "        self.up_block1 = UNet_up_block(512, 1024, 512)\n",
    "        self.up_block2 = UNet_up_block(256, 512, 256)\n",
    "        self.up_block3 = UNet_up_block(128, 256, 128)\n",
    "        self.up_block4 = UNet_up_block(64, 128, 64)\n",
    "        self.up_block5 = UNet_up_block(32, 64, 32)\n",
    "        self.up_block6 = UNet_up_block(16, 32, 16)\n",
    "\n",
    "        self.last_conv1 = torch.nn.Conv2d(16, 16, 3, padding=1)\n",
    "        self.last_bn = torch.nn.BatchNorm2d(16)\n",
    "        self.last_conv2 = torch.nn.Conv2d(16, 1, 1, padding=0)\n",
    "        self.relu = torch.nn.ReLU()\n",
    "\n",
    "    def forward(self, x):\n",
    "        self.x1 = self.down_block1(x)\n",
    "        self.x2 = self.down_block2(self.x1)\n",
    "        self.x3 = self.down_block3(self.x2)\n",
    "        self.x4 = self.down_block4(self.x3)\n",
    "        self.x5 = self.down_block5(self.x4)\n",
    "        self.x6 = self.down_block6(self.x5)\n",
    "        self.x7 = self.down_block7(self.x6)\n",
    "        self.x7 = self.relu(self.bn1(self.mid_conv1(self.x7)))\n",
    "        self.x7 = self.relu(self.bn2(self.mid_conv2(self.x7)))\n",
    "        self.x7 = self.relu(self.bn3(self.mid_conv3(self.x7)))\n",
    "        x = self.up_block1(self.x6, self.x7)\n",
    "        x = self.up_block2(self.x5, x)\n",
    "        x = self.up_block3(self.x4, x)\n",
    "        x = self.up_block4(self.x3, x)\n",
    "        x = self.up_block5(self.x2, x)\n",
    "        x = self.up_block6(self.x1, x)\n",
    "        x = self.relu(self.last_bn(self.last_conv1(x)))\n",
    "        x = self.last_conv2(x)\n",
    "        return x"
   ]
  },
  {
   "cell_type": "code",
   "execution_count": null,
   "metadata": {},
   "outputs": [],
   "source": [
    "model = UNet()"
   ]
  },
  {
   "cell_type": "code",
   "execution_count": null,
   "metadata": {},
   "outputs": [],
   "source": [
    "from torchsummary import summary\n",
    "\n",
    "summary(model, input_size=(3, 768, 768))"
   ]
  },
  {
   "cell_type": "code",
   "execution_count": null,
   "metadata": {},
   "outputs": [],
   "source": [
    " class LossBinary:\n",
    "    \"\"\"\n",
    "     Implementation from  https://github.com/ternaus/robot-surgery-segmentation\n",
    "    \"\"\"\n",
    "\n",
    "    def __init__(self, jaccard_weight=0):\n",
    "        self.nll_loss = torch.nn.BCEWithLogitsLoss()\n",
    "        self.jaccard_weight = jaccard_weight\n",
    "\n",
    "    def __call__(self, outputs, targets):\n",
    "        loss = self.nll_loss(outputs, targets)\n",
    "\n",
    "        if self.jaccard_weight:\n",
    "            eps = 1e-15\n",
    "            jaccard_target = (targets == 1.0).float()\n",
    "            jaccard_output = F.sigmoid(outputs)\n",
    "\n",
    "            intersection = (jaccard_output * jaccard_target).sum()\n",
    "            union = jaccard_output.sum() + jaccard_target.sum()\n",
    "\n",
    "            loss -= self.jaccard_weight * torch.log((intersection + eps) / (union - intersection + eps))\n",
    "        return loss\n",
    "\n"
   ]
  },
  {
   "cell_type": "code",
   "execution_count": null,
   "metadata": {},
   "outputs": [],
   "source": [
    "criterion = LossBinary(5)\n",
    "optimizer = torch.optim.Adam(model.parameters(), lr=1e-4)"
   ]
  },
  {
   "cell_type": "code",
   "execution_count": null,
   "metadata": {},
   "outputs": [],
   "source": [
    "from torch.utils.data import DataLoader\n",
    "loader = DataLoader(dataset=ds, batch_size=32)"
   ]
  },
  {
   "cell_type": "code",
   "execution_count": null,
   "metadata": {},
   "outputs": [],
   "source": [
    "for epoch in range(2):\n",
    "    for i, (inputs, targets) in enumerate(loader):\n",
    "        ouputs = model(inputs)"
   ]
  }
 ],
 "metadata": {
  "kernelspec": {
   "display_name": "Python 3",
   "language": "python",
   "name": "python3"
  },
  "language_info": {
   "codemirror_mode": {
    "name": "ipython",
    "version": 3
   },
   "file_extension": ".py",
   "mimetype": "text/x-python",
   "name": "python",
   "nbconvert_exporter": "python",
   "pygments_lexer": "ipython3",
   "version": "3.6.9"
  }
 },
 "nbformat": 4,
 "nbformat_minor": 4
}
